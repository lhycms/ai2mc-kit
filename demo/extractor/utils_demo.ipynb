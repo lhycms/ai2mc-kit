{
 "cells": [
  {
   "cell_type": "code",
   "execution_count": 2,
   "metadata": {},
   "outputs": [
    {
     "name": "stdout",
     "output_type": "stream",
     "text": [
      "Step 1. Monte Carlo Summary\n",
      "---------------Monte Carlo Summary----------------\n",
      "\t1. Total Steps:         : 1087\n",
      "\t2. Exchanged Steps:     : 474 \n",
      "\t3. Accept Ratio         : 0.436\n",
      "--------------------------------------------------\n",
      "\n",
      "\n",
      "Step 2. Total Steps (Only show the first 10):\n",
      "[0, 1, 2, 3, 4, 5, 6, 7, 8, 9]\n",
      "\n",
      "Step 3. Exchanged Steps (Only show the first 10):\n",
      "[0, 1, 36, 37, 38, 39, 43, 44, 48, 52]\n"
     ]
    }
   ],
   "source": [
    "from ai2mc_kit.extractor.utils import ExtractorUtils\n",
    "\n",
    "\n",
    "# 1. Custom parameters\n",
    "mc_folder = \"/data/home/liuhanyu/hyliu/aimc_demo/mc_1\"\n",
    "\n",
    "# 2. \n",
    "utils = ExtractorUtils(mc_folder=mc_folder)\n",
    "print(\"Step 1. Monte Carlo Summary\")\n",
    "print(utils)\n",
    "\n",
    "\n",
    "print(\"\\nStep 2. Total Steps (Only show the first 10):\")\n",
    "print(utils.get_steps_lst()[:10])\n",
    "\n",
    "\n",
    "print(\"\\nStep 3. Exchanged Steps (Only show the first 10):\")\n",
    "print(utils.get_exchanged_steps_lst()[:10])"
   ]
  },
  {
   "cell_type": "code",
   "execution_count": null,
   "metadata": {},
   "outputs": [],
   "source": []
  }
 ],
 "metadata": {
  "kernelspec": {
   "display_name": "ai2mc_dev",
   "language": "python",
   "name": "python3"
  },
  "language_info": {
   "codemirror_mode": {
    "name": "ipython",
    "version": 3
   },
   "file_extension": ".py",
   "mimetype": "text/x-python",
   "name": "python",
   "nbconvert_exporter": "python",
   "pygments_lexer": "ipython3",
   "version": "3.9.18"
  },
  "orig_nbformat": 4
 },
 "nbformat": 4,
 "nbformat_minor": 2
}
